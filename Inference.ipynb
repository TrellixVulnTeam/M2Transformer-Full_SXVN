{
  "nbformat": 4,
  "nbformat_minor": 0,
  "metadata": {
    "accelerator": "GPU",
    "colab": {
      "name": "Chau M2 Transformer.ipynb",
      "provenance": [],
      "collapsed_sections": [
        "zAyG3OQmC553",
        "R8VHY5zFOlCs",
        "f2B1h5ta6jj2",
        "BCa0nG60OoKB",
        "0Up_7I9TUgDH"
      ]
    },
    "kernelspec": {
      "display_name": "Python 3",
      "name": "python3"
    },
    "language_info": {
      "name": "python"
    },
    "widgets": {
      "application/vnd.jupyter.widget-state+json": {
        "c619a561b29b4def86f85bc3477f93a9": {
          "model_module": "@jupyter-widgets/controls",
          "model_name": "HBoxModel",
          "state": {
            "_dom_classes": [],
            "_model_module": "@jupyter-widgets/controls",
            "_model_module_version": "1.5.0",
            "_model_name": "HBoxModel",
            "_view_count": null,
            "_view_module": "@jupyter-widgets/controls",
            "_view_module_version": "1.5.0",
            "_view_name": "HBoxView",
            "box_style": "",
            "children": [
              "IPY_MODEL_93fc51a56d9c4562a9f7f40454f1c457",
              "IPY_MODEL_0494abd0c3d94a2dba19a7912c926dae"
            ],
            "layout": "IPY_MODEL_e884c452ff004c11a841650931358cee"
          }
        },
        "93fc51a56d9c4562a9f7f40454f1c457": {
          "model_module": "@jupyter-widgets/controls",
          "model_name": "FloatProgressModel",
          "state": {
            "_dom_classes": [],
            "_model_module": "@jupyter-widgets/controls",
            "_model_module_version": "1.5.0",
            "_model_name": "FloatProgressModel",
            "_view_count": null,
            "_view_module": "@jupyter-widgets/controls",
            "_view_module_version": "1.5.0",
            "_view_name": "ProgressView",
            "bar_style": "success",
            "description": "100%",
            "description_tooltip": null,
            "layout": "IPY_MODEL_f1e1e5a17f89442f866a3119435b54f7",
            "max": 102502400,
            "min": 0,
            "orientation": "horizontal",
            "style": "IPY_MODEL_18c99df4bf504b8188935c78b61ad624",
            "value": 102502400
          }
        },
        "0494abd0c3d94a2dba19a7912c926dae": {
          "model_module": "@jupyter-widgets/controls",
          "model_name": "HTMLModel",
          "state": {
            "_dom_classes": [],
            "_model_module": "@jupyter-widgets/controls",
            "_model_module_version": "1.5.0",
            "_model_name": "HTMLModel",
            "_view_count": null,
            "_view_module": "@jupyter-widgets/controls",
            "_view_module_version": "1.5.0",
            "_view_name": "HTMLView",
            "description": "",
            "description_tooltip": null,
            "layout": "IPY_MODEL_19f9d306c3ae40a3abe81e7b4fb5ba8d",
            "placeholder": "​",
            "style": "IPY_MODEL_74dba9109ee845c3bf9b20b21a838269",
            "value": " 97.8M/97.8M [00:00&lt;00:00, 110MB/s]"
          }
        },
        "e884c452ff004c11a841650931358cee": {
          "model_module": "@jupyter-widgets/base",
          "model_name": "LayoutModel",
          "state": {
            "_model_module": "@jupyter-widgets/base",
            "_model_module_version": "1.2.0",
            "_model_name": "LayoutModel",
            "_view_count": null,
            "_view_module": "@jupyter-widgets/base",
            "_view_module_version": "1.2.0",
            "_view_name": "LayoutView",
            "align_content": null,
            "align_items": null,
            "align_self": null,
            "border": null,
            "bottom": null,
            "display": null,
            "flex": null,
            "flex_flow": null,
            "grid_area": null,
            "grid_auto_columns": null,
            "grid_auto_flow": null,
            "grid_auto_rows": null,
            "grid_column": null,
            "grid_gap": null,
            "grid_row": null,
            "grid_template_areas": null,
            "grid_template_columns": null,
            "grid_template_rows": null,
            "height": null,
            "justify_content": null,
            "justify_items": null,
            "left": null,
            "margin": null,
            "max_height": null,
            "max_width": null,
            "min_height": null,
            "min_width": null,
            "object_fit": null,
            "object_position": null,
            "order": null,
            "overflow": null,
            "overflow_x": null,
            "overflow_y": null,
            "padding": null,
            "right": null,
            "top": null,
            "visibility": null,
            "width": null
          }
        },
        "f1e1e5a17f89442f866a3119435b54f7": {
          "model_module": "@jupyter-widgets/base",
          "model_name": "LayoutModel",
          "state": {
            "_model_module": "@jupyter-widgets/base",
            "_model_module_version": "1.2.0",
            "_model_name": "LayoutModel",
            "_view_count": null,
            "_view_module": "@jupyter-widgets/base",
            "_view_module_version": "1.2.0",
            "_view_name": "LayoutView",
            "align_content": null,
            "align_items": null,
            "align_self": null,
            "border": null,
            "bottom": null,
            "display": null,
            "flex": null,
            "flex_flow": null,
            "grid_area": null,
            "grid_auto_columns": null,
            "grid_auto_flow": null,
            "grid_auto_rows": null,
            "grid_column": null,
            "grid_gap": null,
            "grid_row": null,
            "grid_template_areas": null,
            "grid_template_columns": null,
            "grid_template_rows": null,
            "height": null,
            "justify_content": null,
            "justify_items": null,
            "left": null,
            "margin": null,
            "max_height": null,
            "max_width": null,
            "min_height": null,
            "min_width": null,
            "object_fit": null,
            "object_position": null,
            "order": null,
            "overflow": null,
            "overflow_x": null,
            "overflow_y": null,
            "padding": null,
            "right": null,
            "top": null,
            "visibility": null,
            "width": null
          }
        },
        "18c99df4bf504b8188935c78b61ad624": {
          "model_module": "@jupyter-widgets/controls",
          "model_name": "ProgressStyleModel",
          "state": {
            "_model_module": "@jupyter-widgets/controls",
            "_model_module_version": "1.5.0",
            "_model_name": "ProgressStyleModel",
            "_view_count": null,
            "_view_module": "@jupyter-widgets/base",
            "_view_module_version": "1.2.0",
            "_view_name": "StyleView",
            "bar_color": null,
            "description_width": "initial"
          }
        },
        "19f9d306c3ae40a3abe81e7b4fb5ba8d": {
          "model_module": "@jupyter-widgets/base",
          "model_name": "LayoutModel",
          "state": {
            "_model_module": "@jupyter-widgets/base",
            "_model_module_version": "1.2.0",
            "_model_name": "LayoutModel",
            "_view_count": null,
            "_view_module": "@jupyter-widgets/base",
            "_view_module_version": "1.2.0",
            "_view_name": "LayoutView",
            "align_content": null,
            "align_items": null,
            "align_self": null,
            "border": null,
            "bottom": null,
            "display": null,
            "flex": null,
            "flex_flow": null,
            "grid_area": null,
            "grid_auto_columns": null,
            "grid_auto_flow": null,
            "grid_auto_rows": null,
            "grid_column": null,
            "grid_gap": null,
            "grid_row": null,
            "grid_template_areas": null,
            "grid_template_columns": null,
            "grid_template_rows": null,
            "height": null,
            "justify_content": null,
            "justify_items": null,
            "left": null,
            "margin": null,
            "max_height": null,
            "max_width": null,
            "min_height": null,
            "min_width": null,
            "object_fit": null,
            "object_position": null,
            "order": null,
            "overflow": null,
            "overflow_x": null,
            "overflow_y": null,
            "padding": null,
            "right": null,
            "top": null,
            "visibility": null,
            "width": null
          }
        },
        "74dba9109ee845c3bf9b20b21a838269": {
          "model_module": "@jupyter-widgets/controls",
          "model_name": "DescriptionStyleModel",
          "state": {
            "_model_module": "@jupyter-widgets/controls",
            "_model_module_version": "1.5.0",
            "_model_name": "DescriptionStyleModel",
            "_view_count": null,
            "_view_module": "@jupyter-widgets/base",
            "_view_module_version": "1.2.0",
            "_view_name": "StyleView",
            "description_width": ""
          }
        }
      }
    }
  },
  "cells": [
    {
      "cell_type": "markdown",
      "metadata": {
        "id": "zAyG3OQmC553"
      },
      "source": [
        "# S"
      ]
    },
    {
      "cell_type": "markdown",
      "metadata": {
        "id": "R8VHY5zFOlCs"
      },
      "source": [
        "## Extract Features"
      ]
    },
    {
      "cell_type": "code",
      "metadata": {
        "id": "1C2wIDT90GvF"
      },
      "source": [
        "# train 7, val 3"
      ],
      "execution_count": null,
      "outputs": []
    },
    {
      "cell_type": "code",
      "metadata": {
        "colab": {
          "base_uri": "https://localhost:8080/"
        },
        "id": "WyFVAy9okEXf",
        "outputId": "5252ca04-6cb9-4f6d-da4c-163ac2114d16"
      },
      "source": [
        "import h5py\n",
        "\n",
        "SAVE_FT_PATH = '/content/drive/MyDrive/Colab Notebooks/img_caption/ft_final.h5'\n",
        "\n",
        "f = h5py.File(SAVE_FT_PATH, 'r')\n",
        "len(f)"
      ],
      "execution_count": null,
      "outputs": [
        {
          "output_type": "execute_result",
          "data": {
            "text/plain": [
              "11000"
            ]
          },
          "metadata": {
            "tags": []
          },
          "execution_count": 2
        }
      ]
    },
    {
      "cell_type": "code",
      "metadata": {
        "id": "dFSK8fQ0QPvl"
      },
      "source": [
        "t = (1, 196, 2048)\n",
        "\n",
        "for ele in f:\n",
        "    if f[ele].shape != t:\n",
        "        print(f[ele].shape)"
      ],
      "execution_count": null,
      "outputs": []
    },
    {
      "cell_type": "code",
      "metadata": {
        "id": "tpTNWqoKUFqT"
      },
      "source": [
        "for ele in f:\n",
        "    print(f[ele])"
      ],
      "execution_count": null,
      "outputs": []
    },
    {
      "cell_type": "markdown",
      "metadata": {
        "id": "q5d_fdN9dHKg"
      },
      "source": [
        "test"
      ]
    },
    {
      "cell_type": "code",
      "metadata": {
        "id": "pJuDwWsugCRj"
      },
      "source": [
        "# import json\n",
        "\n",
        "# with open('/content/drive/MyDrive/Colab Notebooks/img_caption/train/flickr30k_images/trains.json', 'r') as json_file:\n",
        "#     train_json = json.load(json_file)\n",
        "# with open('/content/drive/MyDrive/Colab Notebooks/img_caption/train/flickr30k_images/vals.json', 'r') as json_file:\n",
        "#     val_json = json.load(json_file)\n",
        "# with open('/content/drive/MyDrive/Colab Notebooks/img_caption/train/flickr30k_images/tests.json', 'r') as json_file:\n",
        "#     test_json = json.load(json_file)\n",
        "# for ele in train_json['annotations']:\n",
        "#     id = ele['image_id']\n",
        "#     temp = f['%d_features' % int(id)]\n",
        "#     # print(ele)\n",
        "# for ele in val_json['annotations']:\n",
        "#     id = ele['image_id']\n",
        "#     temp = f['%d_features' % int(id)]\n",
        "# for ele in test_json['annotations']:\n",
        "#     id = ele['image_id']\n",
        "#     temp = f['%d_features' % int(id)]"
      ],
      "execution_count": null,
      "outputs": []
    },
    {
      "cell_type": "code",
      "metadata": {
        "id": "N78qGwrLSmrH"
      },
      "source": [
        "# import os\n",
        "# import h5py\n",
        "# import torch\n",
        "# from PIL import Image\n",
        "# from skimage import io\n",
        "# from tqdm import tqdm\n",
        "# import torchvision.transforms as transforms\n",
        "# SAVE_FT_PATH = '/content/drive/MyDrive/Colab Notebooks/img_caption/ft_test.h5'\n",
        "# transform=transforms.Compose([\n",
        "#                                 # transforms.Resize(256),\n",
        "#                                 transforms.CenterCrop(224), \n",
        "#                                 transforms.ToTensor()\n",
        "#                             ])\n",
        "\n",
        "# device = torch.device(\"cuda\" if torch.cuda.is_available() else \"cpu\")\n",
        "# model = Resnet_50()\n",
        "# model = model.to(device)\n",
        "# # images is a tensor of dimensions (batch_size, 3, image_size, image_size)\n",
        "# img_names = os.listdir(IMGS_PATH)[20000:21000]\n",
        "\n",
        "# with h5py.File(SAVE_FT_PATH, 'w') as f:\n",
        "#     for img_name in tqdm(img_names):\n",
        "#         try:\n",
        "#             image_id = img_name.split('.')[0]\n",
        "#             path = os.path.join(IMGS_PATH, img_name)\n",
        "#             img = io.imread(path)\n",
        "#             img = transform(Image.fromarray(img))\n",
        "#             img = torch.tensor(img)\n",
        "#             img = img.unsqueeze(0).float().to(device)\n",
        "#             output = model(img)\n",
        "#             f['%d_features' % int(image_id)] = output.detach().cpu()\n",
        "#         except: \n",
        "#             print(path)"
      ],
      "execution_count": null,
      "outputs": []
    },
    {
      "cell_type": "markdown",
      "metadata": {
        "id": "f2B1h5ta6jj2"
      },
      "source": [
        "## Dataset"
      ]
    },
    {
      "cell_type": "code",
      "metadata": {
        "id": "gnW_RifE1Ydx"
      },
      "source": [
        "% cd '/content/drive/MyDrive/Colab Notebooks/img_caption/Image Captioning/meshed-memory-transformer'\n",
        "\n",
        "!pip install -r requirements.txt\n",
        "!pip uninstall thinc\n",
        "!pip uninstall cymem\n",
        "!pip install spacy\n",
        "!python -m spacy download en"
      ],
      "execution_count": null,
      "outputs": []
    },
    {
      "cell_type": "code",
      "metadata": {
        "colab": {
          "base_uri": "https://localhost:8080/"
        },
        "id": "JAD1eXCnsLnt",
        "outputId": "636c44b5-3a7d-4ef7-d0f4-84edf6e7a2d3"
      },
      "source": [
        "% cd '/content/drive/MyDrive/Colab Notebooks/img_caption/Image Captioning/meshed-memory-transformer'\n",
        "# model = torch.load(PATH,map_location= torch.device('cpu'))\n",
        "\n",
        "!python test.py --batch_size 20 --workers 1 --features_path '/content/drive/MyDrive/Colab Notebooks/img_caption/ft.h5'\\\n",
        "                                            --index_path '/content/drive/MyDrive/Colab Notebooks/img_caption/index.pt' \\\n",
        "                                            --img_root '/content/drive/MyDrive/Colab Notebooks/img_caption/Flickr8k/Images' \\\n",
        "                                            --ann_root '/content/drive/MyDrive/Colab Notebooks/img_caption/Flickr8k/captions.txt'"
      ],
      "execution_count": null,
      "outputs": [
        {
          "output_type": "stream",
          "text": [
            "/content/drive/.shortcut-targets-by-id/1ejeW5FQej_GXFefrrFxP1-Pn1IkJc441/Image Captioning/meshed-memory-transformer\n",
            "Meshed-Memory Transformer Evaluation\n",
            "Evaluation:   0% 0/200 [00:00<?, ?it/s]\n",
            "lalal 0\n",
            "/usr/local/lib/python3.7/dist-packages/numpy/core/fromnumeric.py:3373: RuntimeWarning: Mean of empty slice.\n",
            "  out=out, **kwargs)\n",
            "/usr/local/lib/python3.7/dist-packages/numpy/core/_methods.py:170: RuntimeWarning: invalid value encountered in double_scalars\n",
            "  ret = ret.dtype.type(ret / rcount)\n",
            "/content/drive/.shortcut-targets-by-id/1ejeW5FQej_GXFefrrFxP1-Pn1IkJc441/Image Captioning/meshed-memory-transformer/evaluation/cider/cider_scorer.py:70: RuntimeWarning: divide by zero encountered in log\n",
            "  self.ref_len = np.log(float(len(self.crefs)))\n",
            "{'BLEU': [0.0, 0.0, 0.0, 0.0], 'ROUGE': nan, 'CIDEr': nan}\n"
          ],
          "name": "stdout"
        }
      ]
    },
    {
      "cell_type": "markdown",
      "metadata": {
        "id": "BCa0nG60OoKB"
      },
      "source": [
        "## M2 Training"
      ]
    },
    {
      "cell_type": "code",
      "metadata": {
        "id": "_EC8esBIOgPT"
      },
      "source": [
        "% cd '/content/drive/MyDrive/Colab Notebooks/img_caption/Image Captioning/meshed-memory-transformer'\n",
        "!python train.py --exp_name m2_transformer2 --batch_size 50 --m 40 --head 8 --warmup 10000 \\\n",
        "                 --features_path '/content/drive/MyDrive/Colab Notebooks/img_caption/ft_final.h5'\\\n",
        "                 --annotation_folder '/content/drive/MyDrive/Colab Notebooks/img_caption/train/flickr30k_images/'\\ \n",
        "                #  --resume_last \\"
      ],
      "execution_count": null,
      "outputs": []
    },
    {
      "cell_type": "markdown",
      "metadata": {
        "id": "0Up_7I9TUgDH"
      },
      "source": [
        "## M2 Evaluation"
      ]
    },
    {
      "cell_type": "code",
      "metadata": {
        "id": "JbJQPMfc8Gmv",
        "colab": {
          "base_uri": "https://localhost:8080/"
        },
        "outputId": "d45aa126-4afd-49ac-d134-311b186a2391"
      },
      "source": [
        "% cd '/content/drive/MyDrive/Colab Notebooks/img_caption/Image Captioning/meshed-memory-transformer'\n",
        "# model = torch.load(PATH,map_location= torch.device('cpu'))\n",
        "\n",
        "!python test.py --batch_size 20 --workers 1 --features_path '/content/drive/MyDrive/Colab Notebooks/img_caption/index.pt'\\\n",
        "                                            --img_root '/content/drive/MyDrive/Colab Notebooks/img_caption/Flickr8k/Images' \\\n",
        "                                            --ann_root '/content/drive/MyDrive/Colab Notebooks/img_caption/Flickr8k/captions.txt'"
      ],
      "execution_count": null,
      "outputs": [
        {
          "output_type": "stream",
          "text": [
            "/content/drive/.shortcut-targets-by-id/1ejeW5FQej_GXFefrrFxP1-Pn1IkJc441/Image Captioning/meshed-memory-transformer\n",
            "Meshed-Memory Transformer Evaluation\n",
            "Traceback (most recent call last):\n",
            "  File \"test.py\", line 88, in <module>\n",
            "    with open(args.index_path, 'rb') as f:\n",
            "TypeError: expected str, bytes or os.PathLike object, not NoneType\n"
          ],
          "name": "stdout"
        }
      ]
    },
    {
      "cell_type": "code",
      "metadata": {
        "id": "0TpzahlUpkEF"
      },
      "source": [
        "% cd '/content/drive/MyDrive/Colab Notebooks/img_caption/Image Captioning/meshed-memory-transformer'\n",
        "%matplotlib\n",
        "\n",
        "import random\n",
        "from data import ImageDetectionsField, TextField, RawField\n",
        "from data import Flickr, DataLoader\n",
        "import evaluation\n",
        "from models.transformer import Transformer, MemoryAugmentedEncoder, MeshedDecoder, ScaledDotProductAttentionMemory\n",
        "import torch\n",
        "from tqdm import tqdm\n",
        "import argparse\n",
        "import pickle\n",
        "import numpy as np\n",
        "# from matplotlib.pyplot import imshow \n",
        "# import matplotlib.pyplot as plt\n",
        "# from IPython.display import HTML\n",
        "# from PIL import Image\n",
        "# from base64 import b64encode\n",
        "# from IPython.display import display\n",
        "\n",
        "random.seed(1234)\n",
        "torch.manual_seed(1234)\n",
        "np.random.seed(1234)\n",
        "\n",
        "\n",
        "def predict_captions(model, dataloader, text_field):\n",
        "    import itertools\n",
        "    model.eval()\n",
        "    gen = {}\n",
        "    gts = {}\n",
        "    with tqdm(desc='Evaluation', unit='it', total=len(dataloader)) as pbar:\n",
        "        for it, (images, caps_gt) in enumerate(iter(dataloader)):\n",
        "            images = images.to(device)\n",
        "            with torch.no_grad():\n",
        "                out, _ = model.beam_search(images, 20, text_field.vocab.stoi['<eos>'], 5, out_size=1)\n",
        "            caps_gen = text_field.decode(out, join_words=False)\n",
        "            # for img, cap in zip(images, caps_gen):\n",
        "            #     # imshow(img.cpu().numpy())\n",
        "            #     imshow(img.cpu().numpy())\n",
        "            #     # HTML(\"<img src='data:image/png;base64,{0}'/>\".format(b64encode(img.cpu().numpy()).decode('utf-8')))\n",
        "            #     print('res:', cap)\n",
        "            for i, (gts_i, gen_i) in enumerate(zip(caps_gt, caps_gen)):\n",
        "                gen_i = ' '.join([k for k, g in itertools.groupby(gen_i)])\n",
        "                gen['%d_%d' % (it, i)] = [gen_i.strip(), ]\n",
        "                gts['%d_%d' % (it, i)] = gts_i\n",
        "            pbar.update()\n",
        "\n",
        "    gts = evaluation.PTBTokenizer.tokenize(gts)\n",
        "    gen = evaluation.PTBTokenizer.tokenize(gen)\n",
        "    scores, _ = evaluation.compute_scores(gts, gen)\n",
        "\n",
        "    return scores\n",
        "\n",
        "\n",
        "if __name__ == '__main__':\n",
        "    device = torch.device('cuda')\n",
        "\n",
        "    parser = argparse.ArgumentParser(description='Meshed-Memory Transformer')\n",
        "    parser.add_argument('--batch_size', type=int, default=10)\n",
        "    parser.add_argument('--workers', type=int, default=0)\n",
        "    parser.add_argument('--features_path', type=str, default='/content/drive/MyDrive/Colab Notebooks/img_caption/ft_final.h5')\n",
        "    parser.add_argument('--img_root', type=str, default='/content/drive/MyDrive/Colab Notebooks/img_caption/train/flickr30k_images/flickr30k_images')\n",
        "    parser.add_argument('--ann_root', type=str, default='/content/drive/MyDrive/Colab Notebooks/img_caption/train/flickr30k_images/')\n",
        "    parser.add_argument('-f')\n",
        "    args = parser.parse_args()\n",
        "\n",
        "    # '/content/drive/MyDrive/Colab Notebooks/img_caption/ft_final.h5'\\\n",
        "    #                                         --img_root '/content/drive/MyDrive/Colab Notebooks/img_caption/train/flickr30k_images/flickr30k_images'\\\n",
        "    #                                         --ann_root '/content/drive/MyDrive/Colab Notebooks/img_caption/train/flickr30k_images/'\n",
        "\n",
        "\n",
        "    print('Meshed-Memory Transformer Evaluation')\n",
        "\n",
        "    # Pipeline for image regions\n",
        "    image_field = ImageDetectionsField(detections_path=args.features_path, max_detections=50, load_in_tmp=False)\n",
        "\n",
        "    # Pipeline for text\n",
        "    text_field = TextField(init_token='<bos>', eos_token='<eos>', lower=True, tokenize='spacy',\n",
        "                           remove_punctuation=True, nopoints=False)\n",
        "\n",
        "    # Create the dataset\n",
        "    dataset = Flickr(image_field, text_field, args.img_root, args.ann_root)\n",
        "    _, _, test_dataset = dataset.splits\n",
        "    text_field.vocab = pickle.load(open('vocab_m2_transformer.pkl', 'rb'))\n",
        "\n",
        "    # Model and dataloaders\n",
        "    encoder = MemoryAugmentedEncoder(3, 0, attention_module=ScaledDotProductAttentionMemory,\n",
        "                                     attention_module_kwargs={'m': 40})\n",
        "    decoder = MeshedDecoder(len(text_field.vocab), 100, 3, text_field.vocab.stoi['<pad>'])\n",
        "    model = Transformer(text_field.vocab.stoi['<bos>'], encoder, decoder).to(device)\n",
        "\n",
        "    data = torch.load('saved_models/m2_transformer_temp.pth')\n",
        "    model.load_state_dict(data['state_dict'])\n",
        "\n",
        "    dict_dataset_test = test_dataset.image_dictionary({'image': image_field, 'text': RawField()})\n",
        "    dict_dataloader_test = DataLoader(dict_dataset_test, batch_size=args.batch_size, num_workers=args.workers)\n",
        "\n",
        "    scores = predict_captions(model, dict_dataloader_test, text_field)\n",
        "    print(scores)\n"
      ],
      "execution_count": null,
      "outputs": []
    },
    {
      "cell_type": "markdown",
      "metadata": {
        "id": "JFZeKD_nPa6q"
      },
      "source": [
        "## M2 Testing"
      ]
    },
    {
      "cell_type": "code",
      "metadata": {
        "id": "XsW9-NMsSgQK"
      },
      "source": [
        "import torch\n",
        "from torchvision.models import resnet50\n",
        "from torch import nn\n",
        "import torch.nn.functional as F\n",
        "import torchvision.models as models\n",
        "\n",
        "class Resnet_50(nn.Module):\n",
        "   \"\"\"\n",
        "   Resnet50 class extractes regions feature   \n",
        "   \"\"\"\n",
        "\n",
        "   def __init__(self, encoded_image_size=14, embed_dim=512):\n",
        "       super(Resnet_50, self).__init__()\n",
        "       self.embed_dim = embed_dim\n",
        "       #self.decoder_dim = decoder_dim\n",
        "\n",
        "       resnet = resnet50(pretrained=True)\n",
        "       self.resnet_fc = resnet50(pretrained=True)\n",
        "\n",
        "       # Remove linear and pool layers (since we're not doing classification)\n",
        "       modules = list(resnet.children())[:-2]\n",
        "       self.resnet = nn.Sequential(*modules)\n",
        "\n",
        "       # Resize image to fixed size to allow input images of variable size\n",
        "       self.adaptive_pool = nn.AdaptiveAvgPool2d((encoded_image_size, encoded_image_size))\n",
        "\n",
        "       # Fine Tuning\n",
        "       self.fine_tune()\n",
        "\n",
        "   def forward(self, images):\n",
        "       \"\"\"\n",
        "       Forward propagation.\n",
        "       :param images: images, a tensor of dimensions (batch_size, 3, image_size, image_size)\n",
        "       :return: encoded images\n",
        "       \"\"\"\n",
        "\n",
        "       # output of FC\n",
        "       out = self.resnet(images)  # (batch_size, 2048, image_size/32, image_size/32)\n",
        "       out = self.adaptive_pool(out)  # (batch_size, 2048, encoded_image_size, encoded_image_size)\n",
        "      \n",
        "       # FOR MESHED MEMORY\n",
        "       out = torch.flatten(out, start_dim=2, end_dim=3) # (batch_size,  2048, encoded_image_size**2)\n",
        "       out = out.permute(0, 2, 1) # (batch_size, encoded_image_size ** 2, 2048)\n",
        "\n",
        "       return out \n",
        "  \n",
        "   def fine_tune(self, fine_tune=False):\n",
        "       \"\"\"\n",
        "       Allow or prevent the computation of gradients for convolutional blocks 2 to 4 of the encoder.\n",
        "       :param fine_tune: Allow?\n",
        "       \"\"\"\n",
        "       for p in self.resnet.parameters():\n",
        "           p.requires_grad = False\n",
        "       # If fine-tuning, only fine-tune convolutional blocks 2 through 4\n",
        "       for c in list(self.resnet.children())[5:]:\n",
        "           for p in c.parameters():\n",
        "               p.requires_grad = fine_tune"
      ],
      "execution_count": null,
      "outputs": []
    },
    {
      "cell_type": "code",
      "metadata": {
        "colab": {
          "base_uri": "https://localhost:8080/",
          "height": 83,
          "referenced_widgets": [
            "c619a561b29b4def86f85bc3477f93a9",
            "93fc51a56d9c4562a9f7f40454f1c457",
            "0494abd0c3d94a2dba19a7912c926dae",
            "e884c452ff004c11a841650931358cee",
            "f1e1e5a17f89442f866a3119435b54f7",
            "18c99df4bf504b8188935c78b61ad624",
            "19f9d306c3ae40a3abe81e7b4fb5ba8d",
            "74dba9109ee845c3bf9b20b21a838269"
          ]
        },
        "id": "_eJDvwx5T4fY",
        "outputId": "a9c1c24a-ce51-4659-ae72-c3f4bcf287ab"
      },
      "source": [
        "import os\n",
        "import h5py\n",
        "import torch\n",
        "from PIL import Image\n",
        "from skimage import io\n",
        "from tqdm import tqdm\n",
        "import torchvision.transforms as transforms\n",
        "\n",
        "device = torch.device(\"cuda\" if torch.cuda.is_available() else \"cpu\")\n",
        "cnn_model = Resnet_50()\n",
        "cnn_model = cnn_model.to(device)"
      ],
      "execution_count": null,
      "outputs": [
        {
          "output_type": "stream",
          "text": [
            "Downloading: \"https://download.pytorch.org/models/resnet50-19c8e357.pth\" to /root/.cache/torch/hub/checkpoints/resnet50-19c8e357.pth\n"
          ],
          "name": "stderr"
        },
        {
          "output_type": "display_data",
          "data": {
            "application/vnd.jupyter.widget-view+json": {
              "model_id": "c619a561b29b4def86f85bc3477f93a9",
              "version_major": 2,
              "version_minor": 0
            },
            "text/plain": [
              "HBox(children=(FloatProgress(value=0.0, max=102502400.0), HTML(value='')))"
            ]
          },
          "metadata": {
            "tags": []
          }
        },
        {
          "output_type": "stream",
          "text": [
            "\n"
          ],
          "name": "stdout"
        }
      ]
    },
    {
      "cell_type": "code",
      "metadata": {
        "id": "XYBPKFh3Pce7"
      },
      "source": [
        "% cd '/content/drive/MyDrive/Colab Notebooks/img_caption/Image Captioning/meshed-memory-transformer'\n",
        "\n",
        "import random\n",
        "from data import ImageDetectionsField, TextField, RawField\n",
        "from data import COCO, DataLoader\n",
        "import evaluation\n",
        "from models.transformer import Transformer, MemoryAugmentedEncoder, MeshedDecoder, ScaledDotProductAttentionMemory\n",
        "import torch\n",
        "from tqdm import tqdm\n",
        "import argparse\n",
        "import pickle\n",
        "import numpy as np\n",
        "from google.colab.patches import cv2_imshow\n",
        "import os\n",
        "import h5py\n",
        "import torch\n",
        "from PIL import Image\n",
        "from skimage import io\n",
        "from tqdm import tqdm\n",
        "import cv2\n",
        "import torchvision.transforms as transforms\n",
        "\n",
        "transform=transforms.Compose([\n",
        "                                # transforms.Resize(256),\n",
        "                                transforms.CenterCrop(224), \n",
        "                                transforms.ToTensor()\n",
        "                            ])\n",
        "\n",
        "random.seed(1234)\n",
        "torch.manual_seed(1234)\n",
        "np.random.seed(1234)\n",
        "\n",
        "device = torch.device('cuda')\n",
        "\n",
        "def predict_caption(model, image_ft, text_field):\n",
        "    model.eval()\n",
        "    image_ft = image_ft.to(device)\n",
        "    with torch.no_grad():\n",
        "        out, _ = model.beam_search(image_ft, 20, text_field.vocab.stoi['<eos>'], 5, out_size=1)\n",
        "    caps_gen = text_field.decode(out, join_words=False)\n",
        "    return caps_gen\n",
        "\n",
        "\n",
        "# device = torch.device('cuda')\n",
        "\n",
        "# Pipeline for image regions\n",
        "# image_field = ImageDetectionsField(detections_path=args.features_path, max_detections=50, load_in_tmp=False)\n",
        "\n",
        "# Pipeline for text\n",
        "text_field = TextField(init_token='<bos>', eos_token='<eos>', lower=True, tokenize='spacy',\n",
        "                        remove_punctuation=True, nopoints=False)\n",
        "# text_field.vocab = pickle.load(open('vocab_m2_transformer.pkl', 'rb'))\n",
        "text_field.vocab = pickle.load(open('vocab.pkl', 'rb'))\n",
        "\n",
        "# Model and dataloaders\n",
        "encoder = MemoryAugmentedEncoder(3, 0, attention_module=ScaledDotProductAttentionMemory,\n",
        "                                    attention_module_kwargs={'m': 40})\n",
        "decoder = MeshedDecoder(len(text_field.vocab), 54, 3, text_field.vocab.stoi['<pad>'])\n",
        "model = Transformer(text_field.vocab.stoi['<bos>'], encoder, decoder).to(device)\n",
        "\n",
        "data = torch.load('meshed_memory_transformer.pth')\n",
        "# data = torch.load('saved_models/m2_transformer_temp.pth')\n",
        "model.load_state_dict(data['state_dict'])\n",
        "\n",
        "test_path = '/content/drive/MyDrive/Colab Notebooks/img_caption/Image Captioning/test_imgs'\n",
        "image_names = os.listdir(test_path)\n",
        "\n",
        "for image_name in image_names:\n",
        "    # feature extraction\n",
        "    image = cv2.imread(os.path.join(test_path, image_name))\n",
        "    img = transform(Image.fromarray(image))\n",
        "    img = torch.tensor(img)\n",
        "    img = img.unsqueeze(0).float().to(device)\n",
        "    ft_output = cnn_model(img).detach().cpu()\n",
        "    print(ft_output.shape)\n",
        "\n",
        "    # img captioning\n",
        "    cap = predict_caption(model, ft_output, text_field)\n",
        "    # image = cv2.imread(os.path.join(test_path, image_name))\n",
        "    cv2_imshow(image)\n",
        "    print(cap)"
      ],
      "execution_count": null,
      "outputs": []
    },
    {
      "cell_type": "markdown",
      "metadata": {
        "id": "WAS4kYDzC-lQ"
      },
      "source": [
        "# M2"
      ]
    },
    {
      "cell_type": "code",
      "metadata": {
        "colab": {
          "base_uri": "https://localhost:8080/"
        },
        "id": "oWwc0MtdQ1ck",
        "outputId": "0379ccf7-88b9-4ef2-d8ec-4da9471d35e7"
      },
      "source": [
        "from google.colab import drive\n",
        "drive.mount('/content/drive')"
      ],
      "execution_count": null,
      "outputs": [
        {
          "output_type": "stream",
          "text": [
            "Mounted at /content/drive\n"
          ],
          "name": "stdout"
        }
      ]
    },
    {
      "cell_type": "code",
      "metadata": {
        "id": "e7ot_7fLSaKJ",
        "colab": {
          "base_uri": "https://localhost:8080/",
          "height": 1000
        },
        "outputId": "c71b8405-8e29-4eb8-d720-cd37e9d80333"
      },
      "source": [
        "% cd '/content/drive/MyDrive/Colab Notebooks/img_caption/Image Captioning/meshed-memory-transformer'\n",
        "\n",
        "!pip install -r requirements.txt\n",
        "!pip uninstall thinc\n",
        "!pip uninstall cymem\n",
        "!pip install spacy\n",
        "!python -m spacy download en"
      ],
      "execution_count": null,
      "outputs": [
        {
          "output_type": "stream",
          "text": [
            "/content/drive/.shortcut-targets-by-id/1ejeW5FQej_GXFefrrFxP1-Pn1IkJc441/Image Captioning/meshed-memory-transformer\n",
            "Collecting absl-py==0.8.1\n",
            "\u001b[?25l  Downloading https://files.pythonhosted.org/packages/3b/72/e6e483e2db953c11efa44ee21c5fdb6505c4dffa447b4263ca8af6676b62/absl-py-0.8.1.tar.gz (103kB)\n",
            "\u001b[K     |████████████████████████████████| 112kB 6.7MB/s \n",
            "\u001b[?25hRequirement already satisfied: cycler==0.10.0 in /usr/local/lib/python3.7/dist-packages (from -r requirements.txt (line 2)) (0.10.0)\n",
            "Collecting cymem==1.31.2\n",
            "  Downloading https://files.pythonhosted.org/packages/f8/9e/273fbea507de99166c11cd0cb3fde1ac01b5bc724d9a407a2f927ede91a1/cymem-1.31.2.tar.gz\n",
            "Collecting cytoolz==0.9.0.1\n",
            "\u001b[?25l  Downloading https://files.pythonhosted.org/packages/36/f4/9728ba01ccb2f55df9a5af029b48ba0aaca1081bbd7823ea2ee223ba7a42/cytoolz-0.9.0.1.tar.gz (443kB)\n",
            "\u001b[K     |████████████████████████████████| 450kB 21.7MB/s \n",
            "\u001b[?25hCollecting future==0.17.1\n",
            "\u001b[?25l  Downloading https://files.pythonhosted.org/packages/90/52/e20466b85000a181e1e144fd8305caf2cf475e2f9674e797b222f8105f5f/future-0.17.1.tar.gz (829kB)\n",
            "\u001b[K     |████████████████████████████████| 829kB 27.0MB/s \n",
            "\u001b[?25hCollecting grpcio==1.25.0\n",
            "\u001b[?25l  Downloading https://files.pythonhosted.org/packages/b5/68/070ee7609b452e950bd5af35f7161f0ceb0abd61cf16ff3b23c852d4594b/grpcio-1.25.0-cp37-cp37m-manylinux2010_x86_64.whl (2.4MB)\n",
            "\u001b[K     |████████████████████████████████| 2.4MB 37.2MB/s \n",
            "\u001b[?25hCollecting h5py==2.8.0\n",
            "\u001b[?25l  Downloading https://files.pythonhosted.org/packages/4f/3f/724834613239667a92d3b8b6b8fdef1c93d6f57d008cacc46e6b9ebdc486/h5py-2.8.0-cp37-cp37m-manylinux1_x86_64.whl (2.8MB)\n",
            "\u001b[K     |████████████████████████████████| 2.8MB 36.2MB/s \n",
            "\u001b[?25hCollecting kiwisolver==1.1.0\n",
            "\u001b[?25l  Downloading https://files.pythonhosted.org/packages/93/f8/518fb0bb89860eea6ff1b96483fbd9236d5ee991485d0f3eceff1770f654/kiwisolver-1.1.0-cp37-cp37m-manylinux1_x86_64.whl (90kB)\n",
            "\u001b[K     |████████████████████████████████| 92kB 11.0MB/s \n",
            "\u001b[?25hCollecting markdown==3.1.1\n",
            "\u001b[?25l  Downloading https://files.pythonhosted.org/packages/c0/4e/fd492e91abdc2d2fcb70ef453064d980688762079397f779758e055f6575/Markdown-3.1.1-py2.py3-none-any.whl (87kB)\n",
            "\u001b[K     |████████████████████████████████| 92kB 13.1MB/s \n",
            "\u001b[?25hCollecting matplotlib==2.2.3\n",
            "\u001b[?25l  Downloading https://files.pythonhosted.org/packages/52/46/ff47fea8e5c528c497fc385c95887131c4319a3411814ba9a766b66a9367/matplotlib-2.2.3-cp37-cp37m-manylinux1_x86_64.whl (12.6MB)\n",
            "\u001b[K     |████████████████████████████████| 12.6MB 239kB/s \n",
            "\u001b[?25hCollecting msgpack==0.6.2\n",
            "\u001b[?25l  Downloading https://files.pythonhosted.org/packages/25/f8/6009e73f5b08743718d0660a18ecbc44b013a68980347a3835b63e875cdb/msgpack-0.6.2-cp37-cp37m-manylinux1_x86_64.whl (243kB)\n",
            "\u001b[K     |████████████████████████████████| 245kB 51.3MB/s \n",
            "\u001b[?25hCollecting multiprocess==0.70.9\n",
            "\u001b[?25l  Downloading https://files.pythonhosted.org/packages/58/17/5151b6ac2ac9b6276d46c33369ff814b0901872b2a0871771252f02e9192/multiprocess-0.70.9.tar.gz (1.6MB)\n",
            "\u001b[K     |████████████████████████████████| 1.6MB 40.8MB/s \n",
            "\u001b[?25hCollecting murmurhash==0.28.0\n",
            "  Downloading https://files.pythonhosted.org/packages/5e/31/c8c1ecafa44db30579c8c457ac7a0f819e8b1dbc3e58308394fff5ff9ba7/murmurhash-0.28.0.tar.gz\n",
            "Collecting numpy==1.16.4\n",
            "\u001b[?25l  Downloading https://files.pythonhosted.org/packages/fc/d1/45be1144b03b6b1e24f9a924f23f66b4ad030d834ad31fb9e5581bd328af/numpy-1.16.4-cp37-cp37m-manylinux1_x86_64.whl (17.3MB)\n",
            "\u001b[K     |████████████████████████████████| 17.3MB 121kB/s \n",
            "\u001b[?25hRequirement already satisfied: pathlib==1.0.1 in /usr/local/lib/python3.7/dist-packages (from -r requirements.txt (line 15)) (1.0.1)\n",
            "Collecting pathos==0.2.3\n",
            "\u001b[?25l  Downloading https://files.pythonhosted.org/packages/b1/3e/391c9a3c639fc5ce7502ac16fde81dcc5508f2a9cc0d1acc650725400b52/pathos-0.2.3.tar.gz (162kB)\n",
            "\u001b[K     |████████████████████████████████| 163kB 55.3MB/s \n",
            "\u001b[?25hCollecting pillow==6.2.1\n",
            "\u001b[?25l  Downloading https://files.pythonhosted.org/packages/89/3e/31c2e5385d7588016c6f7ac552e81c3fff2bef4bc61b6f82f8177752405c/Pillow-6.2.1-cp37-cp37m-manylinux1_x86_64.whl (2.1MB)\n",
            "\u001b[K     |████████████████████████████████| 2.1MB 32.4MB/s \n",
            "\u001b[?25hCollecting plac==0.9.6\n",
            "  Downloading https://files.pythonhosted.org/packages/9e/9b/62c60d2f5bc135d2aa1d8c8a86aaf84edb719a59c7f11a4316259e61a298/plac-0.9.6-py2.py3-none-any.whl\n",
            "Collecting pox==0.2.7\n",
            "\u001b[?25l  Downloading https://files.pythonhosted.org/packages/6c/9a/957818485aa165ce93b646aeb20181215bb415c9dca8345bdbe23b08ae67/pox-0.2.7.tar.gz (110kB)\n",
            "\u001b[K     |████████████████████████████████| 112kB 59.6MB/s \n",
            "\u001b[?25hCollecting ppft==1.6.6.1\n",
            "\u001b[?25l  Downloading https://files.pythonhosted.org/packages/5b/16/9e83c2aa45949ee9cd6e8731275acdaeb6c624b8728d6598196c65074f3e/ppft-1.6.6.1.tar.gz (63kB)\n",
            "\u001b[K     |████████████████████████████████| 71kB 12.3MB/s \n",
            "\u001b[?25hCollecting preshed==1.0.1\n",
            "\u001b[?25l  Downloading https://files.pythonhosted.org/packages/f4/0c/64933c18f02fbf46acdd0c7705ec1c1194f58b564bb5a2d140fabcb37bad/preshed-1.0.1-cp37-cp37m-manylinux1_x86_64.whl (79kB)\n",
            "\u001b[K     |████████████████████████████████| 81kB 11.2MB/s \n",
            "\u001b[?25hCollecting protobuf==3.10.0\n",
            "\u001b[?25l  Downloading https://files.pythonhosted.org/packages/d7/34/02a2083afc14adff644a1e29783f276f12f1f914ca4cab157d73bb3d2fed/protobuf-3.10.0-cp37-cp37m-manylinux1_x86_64.whl (1.3MB)\n",
            "\u001b[K     |████████████████████████████████| 1.3MB 39.9MB/s \n",
            "\u001b[?25hCollecting pycocotools==2.0.0\n",
            "\u001b[?25l  Downloading https://files.pythonhosted.org/packages/96/84/9a07b1095fd8555ba3f3d519517c8743c2554a245f9476e5e39869f948d2/pycocotools-2.0.0.tar.gz (1.5MB)\n",
            "\u001b[K     |████████████████████████████████| 1.5MB 43.1MB/s \n",
            "\u001b[?25hCollecting pyparsing==2.4.5\n",
            "\u001b[?25l  Downloading https://files.pythonhosted.org/packages/c0/0c/fc2e007d9a992d997f04a80125b0f183da7fb554f1de701bbb70a8e7d479/pyparsing-2.4.5-py2.py3-none-any.whl (67kB)\n",
            "\u001b[K     |████████████████████████████████| 71kB 11.3MB/s \n",
            "\u001b[?25hRequirement already satisfied: python-dateutil==2.8.1 in /usr/local/lib/python3.7/dist-packages (from -r requirements.txt (line 25)) (2.8.1)\n",
            "Collecting pytz==2019.3\n",
            "\u001b[?25l  Downloading https://files.pythonhosted.org/packages/e7/f9/f0b53f88060247251bf481fa6ea62cd0d25bf1b11a87888e53ce5b7c8ad2/pytz-2019.3-py2.py3-none-any.whl (509kB)\n",
            "\u001b[K     |████████████████████████████████| 512kB 43.1MB/s \n",
            "\u001b[?25hCollecting regex==2017.4.5\n",
            "\u001b[?25l  Downloading https://files.pythonhosted.org/packages/36/62/c0c0d762ffd4ffaf39f372eb8561b8d491a11ace5a7884610424a8b40f95/regex-2017.04.05.tar.gz (601kB)\n",
            "\u001b[K     |████████████████████████████████| 604kB 42.5MB/s \n",
            "\u001b[?25hCollecting tensorboard==1.14.0\n",
            "\u001b[?25l  Downloading https://files.pythonhosted.org/packages/91/2d/2ed263449a078cd9c8a9ba50ebd50123adf1f8cfbea1492f9084169b89d9/tensorboard-1.14.0-py3-none-any.whl (3.1MB)\n",
            "\u001b[K     |████████████████████████████████| 3.2MB 26.8MB/s \n",
            "\u001b[?25hCollecting tqdm==4.32.2\n",
            "\u001b[?25l  Downloading https://files.pythonhosted.org/packages/9f/3d/7a6b68b631d2ab54975f3a4863f3c4e9b26445353264ef01f465dc9b0208/tqdm-4.32.2-py2.py3-none-any.whl (50kB)\n",
            "\u001b[K     |████████████████████████████████| 51kB 8.9MB/s \n",
            "\u001b[?25hCollecting ujson==1.35\n",
            "\u001b[?25l  Downloading https://files.pythonhosted.org/packages/16/c4/79f3409bc710559015464e5f49b9879430d8f87498ecdc335899732e5377/ujson-1.35.tar.gz (192kB)\n",
            "\u001b[K     |████████████████████████████████| 194kB 56.1MB/s \n",
            "\u001b[?25hCollecting werkzeug==0.16.0\n",
            "\u001b[?25l  Downloading https://files.pythonhosted.org/packages/ce/42/3aeda98f96e85fd26180534d36570e4d18108d62ae36f87694b476b83d6f/Werkzeug-0.16.0-py2.py3-none-any.whl (327kB)\n",
            "\u001b[K     |████████████████████████████████| 327kB 55.0MB/s \n",
            "\u001b[?25hCollecting wrapt==1.10.11\n",
            "  Downloading https://files.pythonhosted.org/packages/a0/47/66897906448185fcb77fc3c2b1bc20ed0ecca81a0f2f88eda3fc5a34fc3d/wrapt-1.10.11.tar.gz\n",
            "Requirement already satisfied: six in /usr/local/lib/python3.7/dist-packages (from absl-py==0.8.1->-r requirements.txt (line 1)) (1.15.0)\n",
            "Requirement already satisfied: toolz>=0.8.0 in /usr/local/lib/python3.7/dist-packages (from cytoolz==0.9.0.1->-r requirements.txt (line 4)) (0.11.1)\n",
            "Requirement already satisfied: setuptools in /usr/local/lib/python3.7/dist-packages (from kiwisolver==1.1.0->-r requirements.txt (line 8)) (57.0.0)\n",
            "Requirement already satisfied: dill>=0.3.1 in /usr/local/lib/python3.7/dist-packages (from multiprocess==0.70.9->-r requirements.txt (line 12)) (0.3.3)\n",
            "Requirement already satisfied: wheel>=0.26; python_version >= \"3\" in /usr/local/lib/python3.7/dist-packages (from tensorboard==1.14.0->-r requirements.txt (line 28)) (0.36.2)\n",
            "Building wheels for collected packages: absl-py, cymem, cytoolz, future, multiprocess, murmurhash, pathos, pox, ppft, pycocotools, regex, ujson, wrapt\n",
            "  Building wheel for absl-py (setup.py) ... \u001b[?25l\u001b[?25hdone\n",
            "  Created wheel for absl-py: filename=absl_py-0.8.1-cp37-none-any.whl size=121176 sha256=134b81e753399e33c9cc622d8dce5900be3026f384f3f956be32e02eb17efad9\n",
            "  Stored in directory: /root/.cache/pip/wheels/a7/15/a0/0a0561549ad11cdc1bc8fa1191a353efd30facf6bfb507aefc\n",
            "  Building wheel for cymem (setup.py) ... \u001b[?25l\u001b[?25hdone\n",
            "  Created wheel for cymem: filename=cymem-1.31.2-cp37-cp37m-linux_x86_64.whl size=77023 sha256=f4da1105bd8c8bcab0947b5d79d16b2376bd494fbb8527d44a7a61e34e373e77\n",
            "  Stored in directory: /root/.cache/pip/wheels/55/8d/4a/f6328252aa2aaec0b1cb906fd96a1566d77f0f67701071ad13\n",
            "  Building wheel for cytoolz (setup.py) ... \u001b[?25l\u001b[?25hdone\n",
            "  Created wheel for cytoolz: filename=cytoolz-0.9.0.1-cp37-cp37m-linux_x86_64.whl size=1239514 sha256=c34d348a3e39fe17be3a729a93a2d9c7dd40f634d2baa798844424489beb8859\n",
            "  Stored in directory: /root/.cache/pip/wheels/88/f3/11/9817b001e59ab04889e8cffcbd9087e2e2155b9ebecfc8dd38\n",
            "  Building wheel for future (setup.py) ... \u001b[?25l\u001b[?25hdone\n",
            "  Created wheel for future: filename=future-0.17.1-cp37-none-any.whl size=488742 sha256=0e5256654106df33238886c28a4698053a3acf4d47130e4fe6f1ec344e139bbd\n",
            "  Stored in directory: /root/.cache/pip/wheels/0c/61/d2/d6b7317325828fbb39ee6ad559dbe4664d0896da4721bf379e\n",
            "  Building wheel for multiprocess (setup.py) ... \u001b[?25l\u001b[?25hdone\n",
            "  Created wheel for multiprocess: filename=multiprocess-0.70.9-cp37-none-any.whl size=108059 sha256=4d70b00c4c1d0ffb1896cc2e0bc225e0b0b886a5a0e2f7802af65c6c674e832a\n",
            "  Stored in directory: /root/.cache/pip/wheels/96/20/ac/9f1d164f7d81787cd6f4401b1d05212807d021fbbbcc301b82\n",
            "  Building wheel for murmurhash (setup.py) ... \u001b[?25l\u001b[?25hdone\n",
            "  Created wheel for murmurhash: filename=murmurhash-0.28.0-cp37-cp37m-linux_x86_64.whl size=42768 sha256=60e7814b6ad2d866ad31a97b3fb9054784256e77c907fc99c17f47f3952984ef\n",
            "  Stored in directory: /root/.cache/pip/wheels/b8/94/a4/f69f8664cdc1098603df44771b7fec5fd1b3d8364cdd83f512\n",
            "  Building wheel for pathos (setup.py) ... \u001b[?25l\u001b[?25hdone\n",
            "  Created wheel for pathos: filename=pathos-0.2.3-cp37-none-any.whl size=77247 sha256=a202475c960b1e55b89e610c814e010b2fdca2be8c01b39f6d7a6afd0c33af9f\n",
            "  Stored in directory: /root/.cache/pip/wheels/62/8a/d9/6990d88e45a165383edd897f94a852613bc0779e0e7363ad78\n",
            "  Building wheel for pox (setup.py) ... \u001b[?25l\u001b[?25hdone\n",
            "  Created wheel for pox: filename=pox-0.2.7-cp37-none-any.whl size=28320 sha256=56492f96467dea537097f60c7bd0755d8c79fda54278371f3a4aee5d23ada6ba\n",
            "  Stored in directory: /root/.cache/pip/wheels/47/10/7b/0e916f6246fe7cf7d3acd25a6d273ecf3f97888cea073a8ac2\n",
            "  Building wheel for ppft (setup.py) ... \u001b[?25l\u001b[?25hdone\n",
            "  Created wheel for ppft: filename=ppft-1.6.6.1-cp37-none-any.whl size=64742 sha256=f90e8e1081eac62ac63dea0226c82301ef5de9a9d3c4ff7ec075a118488d384e\n",
            "  Stored in directory: /root/.cache/pip/wheels/6a/0c/53/ea8dd63608f75c1e7a64d5c5ce5d1e6d04f15ae8a6fce4c2a0\n",
            "  Building wheel for pycocotools (setup.py) ... \u001b[?25l\u001b[?25hdone\n",
            "  Created wheel for pycocotools: filename=pycocotools-2.0.0-cp37-cp37m-linux_x86_64.whl size=263994 sha256=7c2796433ab48265e62764d0d7e12024c05e3d144b955755ec5f9f16952b583f\n",
            "  Stored in directory: /root/.cache/pip/wheels/dc/e6/36/0e1ae88c868eb42d3f92181b1c9bbd0b217a7ec3da6bd62e55\n",
            "  Building wheel for regex (setup.py) ... \u001b[?25l\u001b[?25hdone\n",
            "  Created wheel for regex: filename=regex-2017.4.5-cp37-cp37m-linux_x86_64.whl size=534409 sha256=1176c66299ad4e682e85f852b46d1407dbbdae1b177b4215cb6929f41c6c0a3c\n",
            "  Stored in directory: /root/.cache/pip/wheels/75/07/38/3c16b529d50cb4e0cd3dbc7b75cece8a09c132692c74450b01\n",
            "  Building wheel for ujson (setup.py) ... \u001b[?25l\u001b[?25hdone\n",
            "  Created wheel for ujson: filename=ujson-1.35-cp37-cp37m-linux_x86_64.whl size=68388 sha256=4cb86972523cf464236ebb00771c89f9f85299c5410970757ac3d5aa21db2835\n",
            "  Stored in directory: /root/.cache/pip/wheels/28/77/e4/0311145b9c2e2f01470e744855131f9e34d6919687550f87d1\n",
            "  Building wheel for wrapt (setup.py) ... \u001b[?25l\u001b[?25hdone\n",
            "  Created wheel for wrapt: filename=wrapt-1.10.11-cp37-cp37m-linux_x86_64.whl size=66051 sha256=824a050cbd1462422dec5aa8bbcb28053adbcbb725b23d0b4736ef4fc3e2f168\n",
            "  Stored in directory: /root/.cache/pip/wheels/48/5d/04/22361a593e70d23b1f7746d932802efe1f0e523376a74f321e\n",
            "Successfully built absl-py cymem cytoolz future multiprocess murmurhash pathos pox ppft pycocotools regex ujson wrapt\n",
            "\u001b[31mERROR: xarray 0.18.2 has requirement numpy>=1.17, but you'll have numpy 1.16.4 which is incompatible.\u001b[0m\n",
            "\u001b[31mERROR: thinc 7.4.0 has requirement cymem<2.1.0,>=2.0.2, but you'll have cymem 1.31.2 which is incompatible.\u001b[0m\n",
            "\u001b[31mERROR: tensorflow 2.5.0 has requirement absl-py~=0.10, but you'll have absl-py 0.8.1 which is incompatible.\u001b[0m\n",
            "\u001b[31mERROR: tensorflow 2.5.0 has requirement grpcio~=1.34.0, but you'll have grpcio 1.25.0 which is incompatible.\u001b[0m\n",
            "\u001b[31mERROR: tensorflow 2.5.0 has requirement h5py~=3.1.0, but you'll have h5py 2.8.0 which is incompatible.\u001b[0m\n",
            "\u001b[31mERROR: tensorflow 2.5.0 has requirement numpy~=1.19.2, but you'll have numpy 1.16.4 which is incompatible.\u001b[0m\n",
            "\u001b[31mERROR: tensorflow 2.5.0 has requirement tensorboard~=2.5, but you'll have tensorboard 1.14.0 which is incompatible.\u001b[0m\n",
            "\u001b[31mERROR: tensorflow 2.5.0 has requirement wrapt~=1.12.1, but you'll have wrapt 1.10.11 which is incompatible.\u001b[0m\n",
            "\u001b[31mERROR: tensorflow-metadata 1.0.0 has requirement absl-py<0.13,>=0.9, but you'll have absl-py 0.8.1 which is incompatible.\u001b[0m\n",
            "\u001b[31mERROR: spacy 2.2.4 has requirement cymem<2.1.0,>=2.0.2, but you'll have cymem 1.31.2 which is incompatible.\u001b[0m\n",
            "\u001b[31mERROR: spacy 2.2.4 has requirement preshed<3.1.0,>=3.0.2, but you'll have preshed 1.0.1 which is incompatible.\u001b[0m\n",
            "\u001b[31mERROR: spacy 2.2.4 has requirement tqdm<5.0.0,>=4.38.0, but you'll have tqdm 4.32.2 which is incompatible.\u001b[0m\n",
            "\u001b[31mERROR: pyerfa 2.0.0 has requirement numpy>=1.17, but you'll have numpy 1.16.4 which is incompatible.\u001b[0m\n",
            "\u001b[31mERROR: pyarrow 3.0.0 has requirement numpy>=1.16.6, but you'll have numpy 1.16.4 which is incompatible.\u001b[0m\n",
            "\u001b[31mERROR: plotnine 0.6.0 has requirement matplotlib>=3.1.1, but you'll have matplotlib 2.2.3 which is incompatible.\u001b[0m\n",
            "\u001b[31mERROR: mizani 0.6.0 has requirement matplotlib>=3.1.1, but you'll have matplotlib 2.2.3 which is incompatible.\u001b[0m\n",
            "\u001b[31mERROR: kapre 0.3.5 has requirement numpy>=1.18.5, but you'll have numpy 1.16.4 which is incompatible.\u001b[0m\n",
            "\u001b[31mERROR: googleapis-common-protos 1.53.0 has requirement protobuf>=3.12.0, but you'll have protobuf 3.10.0 which is incompatible.\u001b[0m\n",
            "\u001b[31mERROR: google-api-core 1.26.3 has requirement protobuf>=3.12.0, but you'll have protobuf 3.10.0 which is incompatible.\u001b[0m\n",
            "\u001b[31mERROR: fbprophet 0.7.1 has requirement tqdm>=4.36.1, but you'll have tqdm 4.32.2 which is incompatible.\u001b[0m\n",
            "\u001b[31mERROR: datascience 0.10.6 has requirement folium==0.2.1, but you'll have folium 0.8.3 which is incompatible.\u001b[0m\n",
            "\u001b[31mERROR: cupy-cuda101 9.1.0 has requirement numpy>=1.17, but you'll have numpy 1.16.4 which is incompatible.\u001b[0m\n",
            "\u001b[31mERROR: bokeh 2.3.2 has requirement pillow>=7.1.0, but you'll have pillow 6.2.1 which is incompatible.\u001b[0m\n",
            "\u001b[31mERROR: astropy 4.2.1 has requirement numpy>=1.17, but you'll have numpy 1.16.4 which is incompatible.\u001b[0m\n",
            "\u001b[31mERROR: arviz 0.11.2 has requirement matplotlib>=3.0, but you'll have matplotlib 2.2.3 which is incompatible.\u001b[0m\n",
            "\u001b[31mERROR: albumentations 0.1.12 has requirement imgaug<0.2.7,>=0.2.5, but you'll have imgaug 0.2.9 which is incompatible.\u001b[0m\n",
            "Installing collected packages: absl-py, cymem, cytoolz, future, grpcio, numpy, h5py, kiwisolver, markdown, pyparsing, pytz, matplotlib, msgpack, multiprocess, murmurhash, ppft, pox, pathos, pillow, plac, preshed, protobuf, pycocotools, regex, werkzeug, tensorboard, tqdm, ujson, wrapt\n",
            "  Found existing installation: absl-py 0.12.0\n",
            "    Uninstalling absl-py-0.12.0:\n",
            "      Successfully uninstalled absl-py-0.12.0\n",
            "  Found existing installation: cymem 2.0.5\n",
            "    Uninstalling cymem-2.0.5:\n",
            "      Successfully uninstalled cymem-2.0.5\n",
            "  Found existing installation: future 0.16.0\n",
            "    Uninstalling future-0.16.0:\n",
            "      Successfully uninstalled future-0.16.0\n",
            "  Found existing installation: grpcio 1.34.1\n",
            "    Uninstalling grpcio-1.34.1:\n",
            "      Successfully uninstalled grpcio-1.34.1\n",
            "  Found existing installation: numpy 1.19.5\n",
            "    Uninstalling numpy-1.19.5:\n",
            "      Successfully uninstalled numpy-1.19.5\n",
            "  Found existing installation: h5py 3.1.0\n",
            "    Uninstalling h5py-3.1.0:\n",
            "      Successfully uninstalled h5py-3.1.0\n",
            "  Found existing installation: kiwisolver 1.3.1\n",
            "    Uninstalling kiwisolver-1.3.1:\n",
            "      Successfully uninstalled kiwisolver-1.3.1\n",
            "  Found existing installation: Markdown 3.3.4\n",
            "    Uninstalling Markdown-3.3.4:\n",
            "      Successfully uninstalled Markdown-3.3.4\n",
            "  Found existing installation: pyparsing 2.4.7\n",
            "    Uninstalling pyparsing-2.4.7:\n",
            "      Successfully uninstalled pyparsing-2.4.7\n",
            "  Found existing installation: pytz 2018.9\n",
            "    Uninstalling pytz-2018.9:\n",
            "      Successfully uninstalled pytz-2018.9\n",
            "  Found existing installation: matplotlib 3.2.2\n",
            "    Uninstalling matplotlib-3.2.2:\n",
            "      Successfully uninstalled matplotlib-3.2.2\n",
            "  Found existing installation: msgpack 1.0.2\n",
            "    Uninstalling msgpack-1.0.2:\n",
            "      Successfully uninstalled msgpack-1.0.2\n",
            "  Found existing installation: multiprocess 0.70.11.1\n",
            "    Uninstalling multiprocess-0.70.11.1:\n",
            "      Successfully uninstalled multiprocess-0.70.11.1\n",
            "  Found existing installation: murmurhash 1.0.5\n",
            "    Uninstalling murmurhash-1.0.5:\n",
            "      Successfully uninstalled murmurhash-1.0.5\n",
            "  Found existing installation: Pillow 7.1.2\n",
            "    Uninstalling Pillow-7.1.2:\n",
            "      Successfully uninstalled Pillow-7.1.2\n",
            "  Found existing installation: plac 1.1.3\n",
            "    Uninstalling plac-1.1.3:\n",
            "      Successfully uninstalled plac-1.1.3\n",
            "  Found existing installation: preshed 3.0.5\n",
            "    Uninstalling preshed-3.0.5:\n",
            "      Successfully uninstalled preshed-3.0.5\n",
            "  Found existing installation: protobuf 3.12.4\n",
            "    Uninstalling protobuf-3.12.4:\n",
            "      Successfully uninstalled protobuf-3.12.4\n",
            "  Found existing installation: pycocotools 2.0.2\n",
            "    Uninstalling pycocotools-2.0.2:\n",
            "      Successfully uninstalled pycocotools-2.0.2\n",
            "  Found existing installation: regex 2019.12.20\n",
            "    Uninstalling regex-2019.12.20:\n",
            "      Successfully uninstalled regex-2019.12.20\n",
            "  Found existing installation: Werkzeug 1.0.1\n",
            "    Uninstalling Werkzeug-1.0.1:\n",
            "      Successfully uninstalled Werkzeug-1.0.1\n",
            "  Found existing installation: tensorboard 2.5.0\n",
            "    Uninstalling tensorboard-2.5.0:\n",
            "      Successfully uninstalled tensorboard-2.5.0\n",
            "  Found existing installation: tqdm 4.41.1\n",
            "    Uninstalling tqdm-4.41.1:\n",
            "      Successfully uninstalled tqdm-4.41.1\n",
            "  Found existing installation: wrapt 1.12.1\n",
            "    Uninstalling wrapt-1.12.1:\n",
            "      Successfully uninstalled wrapt-1.12.1\n",
            "Successfully installed absl-py-0.8.1 cymem-1.31.2 cytoolz-0.9.0.1 future-0.17.1 grpcio-1.25.0 h5py-2.8.0 kiwisolver-1.1.0 markdown-3.1.1 matplotlib-2.2.3 msgpack-0.6.2 multiprocess-0.70.9 murmurhash-0.28.0 numpy-1.16.4 pathos-0.2.3 pillow-6.2.1 plac-0.9.6 pox-0.2.7 ppft-1.6.6.1 preshed-1.0.1 protobuf-3.10.0 pycocotools-2.0.0 pyparsing-2.4.5 pytz-2019.3 regex-2017.4.5 tensorboard-1.14.0 tqdm-4.32.2 ujson-1.35 werkzeug-0.16.0 wrapt-1.10.11\n"
          ],
          "name": "stdout"
        },
        {
          "output_type": "display_data",
          "data": {
            "application/vnd.colab-display-data+json": {
              "pip_warning": {
                "packages": [
                  "PIL",
                  "google",
                  "kiwisolver",
                  "matplotlib",
                  "mpl_toolkits",
                  "numpy",
                  "pyparsing",
                  "pytz"
                ]
              }
            }
          },
          "metadata": {
            "tags": []
          }
        },
        {
          "output_type": "stream",
          "text": [
            "Uninstalling thinc-7.4.0:\n",
            "  Would remove:\n",
            "    /usr/local/lib/python3.7/dist-packages/thinc-7.4.0.dist-info/*\n",
            "    /usr/local/lib/python3.7/dist-packages/thinc/*\n",
            "Proceed (y/n)? y\n",
            "  Successfully uninstalled thinc-7.4.0\n",
            "Uninstalling cymem-1.31.2:\n",
            "  Would remove:\n",
            "    /usr/local/lib/python3.7/dist-packages/cymem-1.31.2.dist-info/*\n",
            "    /usr/local/lib/python3.7/dist-packages/cymem/*\n",
            "Proceed (y/n)? y\n",
            "  Successfully uninstalled cymem-1.31.2\n",
            "Requirement already satisfied: spacy in /usr/local/lib/python3.7/dist-packages (2.2.4)\n",
            "Requirement already satisfied: numpy>=1.15.0 in /usr/local/lib/python3.7/dist-packages (from spacy) (1.16.4)\n",
            "Requirement already satisfied: wasabi<1.1.0,>=0.4.0 in /usr/local/lib/python3.7/dist-packages (from spacy) (0.8.2)\n",
            "Collecting tqdm<5.0.0,>=4.38.0\n",
            "\u001b[?25l  Downloading https://files.pythonhosted.org/packages/b4/20/9f1e974bb4761128fc0d0a32813eaa92827309b1756c4b892d28adfb4415/tqdm-4.61.1-py2.py3-none-any.whl (75kB)\n",
            "\u001b[K     |████████████████████████████████| 81kB 5.5MB/s \n",
            "\u001b[?25hRequirement already satisfied: plac<1.2.0,>=0.9.6 in /usr/local/lib/python3.7/dist-packages (from spacy) (0.9.6)\n",
            "Requirement already satisfied: requests<3.0.0,>=2.13.0 in /usr/local/lib/python3.7/dist-packages (from spacy) (2.23.0)\n",
            "Requirement already satisfied: setuptools in /usr/local/lib/python3.7/dist-packages (from spacy) (57.0.0)\n",
            "Collecting cymem<2.1.0,>=2.0.2\n",
            "  Downloading https://files.pythonhosted.org/packages/b6/34/40547e057c1b31080c1d78f6accf9f1ed6ee46e3fc7ebd8599197915ef89/cymem-2.0.5-cp37-cp37m-manylinux2014_x86_64.whl\n",
            "Requirement already satisfied: blis<0.5.0,>=0.4.0 in /usr/local/lib/python3.7/dist-packages (from spacy) (0.4.1)\n",
            "Collecting preshed<3.1.0,>=3.0.2\n",
            "\u001b[?25l  Downloading https://files.pythonhosted.org/packages/6c/91/1cf0f7f0a6720f93632fc8ec42d54233e8e142640ac3fcf0fecaa8dc4648/preshed-3.0.5-cp37-cp37m-manylinux2014_x86_64.whl (126kB)\n",
            "\u001b[K     |████████████████████████████████| 133kB 45.6MB/s \n",
            "\u001b[?25hRequirement already satisfied: murmurhash<1.1.0,>=0.28.0 in /usr/local/lib/python3.7/dist-packages (from spacy) (0.28.0)\n",
            "Requirement already satisfied: catalogue<1.1.0,>=0.0.7 in /usr/local/lib/python3.7/dist-packages (from spacy) (1.0.0)\n",
            "Collecting thinc==7.4.0\n",
            "\u001b[?25l  Downloading https://files.pythonhosted.org/packages/86/23/2061ed61a37e2385647542eb2be12e7da1fe0cf5c82d154971e5bbafa4ca/thinc-7.4.0-cp37-cp37m-manylinux1_x86_64.whl (2.2MB)\n",
            "\u001b[K     |████████████████████████████████| 2.2MB 47.4MB/s \n",
            "\u001b[?25hRequirement already satisfied: srsly<1.1.0,>=1.0.2 in /usr/local/lib/python3.7/dist-packages (from spacy) (1.0.5)\n",
            "Requirement already satisfied: idna<3,>=2.5 in /usr/local/lib/python3.7/dist-packages (from requests<3.0.0,>=2.13.0->spacy) (2.10)\n",
            "Requirement already satisfied: urllib3!=1.25.0,!=1.25.1,<1.26,>=1.21.1 in /usr/local/lib/python3.7/dist-packages (from requests<3.0.0,>=2.13.0->spacy) (1.24.3)\n",
            "Requirement already satisfied: certifi>=2017.4.17 in /usr/local/lib/python3.7/dist-packages (from requests<3.0.0,>=2.13.0->spacy) (2021.5.30)\n",
            "Requirement already satisfied: chardet<4,>=3.0.2 in /usr/local/lib/python3.7/dist-packages (from requests<3.0.0,>=2.13.0->spacy) (3.0.4)\n",
            "Requirement already satisfied: importlib-metadata>=0.20; python_version < \"3.8\" in /usr/local/lib/python3.7/dist-packages (from catalogue<1.1.0,>=0.0.7->spacy) (4.5.0)\n",
            "Requirement already satisfied: zipp>=0.5 in /usr/local/lib/python3.7/dist-packages (from importlib-metadata>=0.20; python_version < \"3.8\"->catalogue<1.1.0,>=0.0.7->spacy) (3.4.1)\n",
            "Requirement already satisfied: typing-extensions>=3.6.4; python_version < \"3.8\" in /usr/local/lib/python3.7/dist-packages (from importlib-metadata>=0.20; python_version < \"3.8\"->catalogue<1.1.0,>=0.0.7->spacy) (3.7.4.3)\n",
            "Installing collected packages: tqdm, cymem, preshed, thinc\n",
            "  Found existing installation: tqdm 4.32.2\n",
            "    Uninstalling tqdm-4.32.2:\n",
            "      Successfully uninstalled tqdm-4.32.2\n",
            "  Found existing installation: preshed 1.0.1\n",
            "    Uninstalling preshed-1.0.1:\n",
            "      Successfully uninstalled preshed-1.0.1\n",
            "Successfully installed cymem-2.0.5 preshed-3.0.5 thinc-7.4.0 tqdm-4.61.1\n",
            "Requirement already satisfied: en_core_web_sm==2.2.5 from https://github.com/explosion/spacy-models/releases/download/en_core_web_sm-2.2.5/en_core_web_sm-2.2.5.tar.gz#egg=en_core_web_sm==2.2.5 in /usr/local/lib/python3.7/dist-packages (2.2.5)\n",
            "Requirement already satisfied: spacy>=2.2.2 in /usr/local/lib/python3.7/dist-packages (from en_core_web_sm==2.2.5) (2.2.4)\n",
            "Requirement already satisfied: catalogue<1.1.0,>=0.0.7 in /usr/local/lib/python3.7/dist-packages (from spacy>=2.2.2->en_core_web_sm==2.2.5) (1.0.0)\n",
            "Requirement already satisfied: setuptools in /usr/local/lib/python3.7/dist-packages (from spacy>=2.2.2->en_core_web_sm==2.2.5) (57.0.0)\n",
            "Requirement already satisfied: preshed<3.1.0,>=3.0.2 in /usr/local/lib/python3.7/dist-packages (from spacy>=2.2.2->en_core_web_sm==2.2.5) (3.0.5)\n",
            "Requirement already satisfied: tqdm<5.0.0,>=4.38.0 in /usr/local/lib/python3.7/dist-packages (from spacy>=2.2.2->en_core_web_sm==2.2.5) (4.61.1)\n",
            "Requirement already satisfied: srsly<1.1.0,>=1.0.2 in /usr/local/lib/python3.7/dist-packages (from spacy>=2.2.2->en_core_web_sm==2.2.5) (1.0.5)\n",
            "Requirement already satisfied: blis<0.5.0,>=0.4.0 in /usr/local/lib/python3.7/dist-packages (from spacy>=2.2.2->en_core_web_sm==2.2.5) (0.4.1)\n",
            "Requirement already satisfied: numpy>=1.15.0 in /usr/local/lib/python3.7/dist-packages (from spacy>=2.2.2->en_core_web_sm==2.2.5) (1.16.4)\n",
            "Requirement already satisfied: wasabi<1.1.0,>=0.4.0 in /usr/local/lib/python3.7/dist-packages (from spacy>=2.2.2->en_core_web_sm==2.2.5) (0.8.2)\n",
            "Requirement already satisfied: thinc==7.4.0 in /usr/local/lib/python3.7/dist-packages (from spacy>=2.2.2->en_core_web_sm==2.2.5) (7.4.0)\n",
            "Requirement already satisfied: requests<3.0.0,>=2.13.0 in /usr/local/lib/python3.7/dist-packages (from spacy>=2.2.2->en_core_web_sm==2.2.5) (2.23.0)\n",
            "Requirement already satisfied: murmurhash<1.1.0,>=0.28.0 in /usr/local/lib/python3.7/dist-packages (from spacy>=2.2.2->en_core_web_sm==2.2.5) (0.28.0)\n",
            "Requirement already satisfied: cymem<2.1.0,>=2.0.2 in /usr/local/lib/python3.7/dist-packages (from spacy>=2.2.2->en_core_web_sm==2.2.5) (2.0.5)\n",
            "Requirement already satisfied: plac<1.2.0,>=0.9.6 in /usr/local/lib/python3.7/dist-packages (from spacy>=2.2.2->en_core_web_sm==2.2.5) (0.9.6)\n",
            "Requirement already satisfied: importlib-metadata>=0.20; python_version < \"3.8\" in /usr/local/lib/python3.7/dist-packages (from catalogue<1.1.0,>=0.0.7->spacy>=2.2.2->en_core_web_sm==2.2.5) (4.5.0)\n",
            "Requirement already satisfied: idna<3,>=2.5 in /usr/local/lib/python3.7/dist-packages (from requests<3.0.0,>=2.13.0->spacy>=2.2.2->en_core_web_sm==2.2.5) (2.10)\n",
            "Requirement already satisfied: urllib3!=1.25.0,!=1.25.1,<1.26,>=1.21.1 in /usr/local/lib/python3.7/dist-packages (from requests<3.0.0,>=2.13.0->spacy>=2.2.2->en_core_web_sm==2.2.5) (1.24.3)\n",
            "Requirement already satisfied: certifi>=2017.4.17 in /usr/local/lib/python3.7/dist-packages (from requests<3.0.0,>=2.13.0->spacy>=2.2.2->en_core_web_sm==2.2.5) (2021.5.30)\n",
            "Requirement already satisfied: chardet<4,>=3.0.2 in /usr/local/lib/python3.7/dist-packages (from requests<3.0.0,>=2.13.0->spacy>=2.2.2->en_core_web_sm==2.2.5) (3.0.4)\n",
            "Requirement already satisfied: zipp>=0.5 in /usr/local/lib/python3.7/dist-packages (from importlib-metadata>=0.20; python_version < \"3.8\"->catalogue<1.1.0,>=0.0.7->spacy>=2.2.2->en_core_web_sm==2.2.5) (3.4.1)\n",
            "Requirement already satisfied: typing-extensions>=3.6.4; python_version < \"3.8\" in /usr/local/lib/python3.7/dist-packages (from importlib-metadata>=0.20; python_version < \"3.8\"->catalogue<1.1.0,>=0.0.7->spacy>=2.2.2->en_core_web_sm==2.2.5) (3.7.4.3)\n",
            "\u001b[38;5;2m✔ Download and installation successful\u001b[0m\n",
            "You can now load the model via spacy.load('en_core_web_sm')\n",
            "\u001b[38;5;2m✔ Linking successful\u001b[0m\n",
            "/usr/local/lib/python3.7/dist-packages/en_core_web_sm -->\n",
            "/usr/local/lib/python3.7/dist-packages/spacy/data/en\n",
            "You can now load the model via spacy.load('en')\n"
          ],
          "name": "stdout"
        }
      ]
    },
    {
      "cell_type": "code",
      "metadata": {
        "id": "Ie3Dp-k3OwYv",
        "colab": {
          "base_uri": "https://localhost:8080/"
        },
        "outputId": "7ffdab8e-c57b-49c9-da0a-ebf9363381a5"
      },
      "source": [
        "img_path = '/content/drive/MyDrive/Colab\\ Notebooks/img_caption/Image\\ Captioning/test_imgs/test2.png'\n",
        "\n",
        "% cd '/content/drive/MyDrive/Colab Notebooks/img_caption/Faster-R-CNN-with-model-pretrained-on-Visual-Genome'\n",
        "!python demo.py --net res101 \\\n",
        "                --dataset vg\\\n",
        "                --image_dir $img_path \\\n",
        "                --load_dir '/content/drive/MyDrive/Colab Notebooks/img_caption/Faster-R-CNN-with-model-pretrained-on-Visual-Genome/'"
      ],
      "execution_count": null,
      "outputs": [
        {
          "output_type": "stream",
          "text": [
            "/content/drive/MyDrive/Colab Notebooks/img_caption/Faster-R-CNN-with-model-pretrained-on-Visual-Genome\n",
            "Called with args:\n",
            "Namespace(cfg_file='cfgs/res101.yml', class_agnostic=False, classes_dir='data/genome/1600-400-20', cuda=False, dataset='vg', image_dir='/content/drive/MyDrive/Colab Notebooks/img_caption/Image Captioning/test_imgs/test2.png', image_file='img1.jpg', load_dir='/content/drive/MyDrive/Colab Notebooks/img_caption/Faster-R-CNN-with-model-pretrained-on-Visual-Genome/', mGPUs=False, net='res101', parallel_type=0, set_cfgs=None, vis=False)\n",
            "Using config:\n",
            "{'ANCHOR_RATIOS': [0.5, 1, 2],\n",
            " 'ANCHOR_SCALES': [4, 8, 16, 32],\n",
            " 'CROP_RESIZE_WITH_MAX_POOL': False,\n",
            " 'CUDA': False,\n",
            " 'DATA_DIR': '/content/drive/MyDrive/Colab '\n",
            "             'Notebooks/img_caption/Faster-R-CNN-with-model-pretrained-on-Visual-Genome/data',\n",
            " 'DEDUP_BOXES': 0.0625,\n",
            " 'EPS': 1e-14,\n",
            " 'EXP_DIR': 'res101',\n",
            " 'FEAT_STRIDE': [16],\n",
            " 'GPU_ID': 0,\n",
            " 'MATLAB': 'matlab',\n",
            " 'MAX_NUM_GT_BOXES': 20,\n",
            " 'MOBILENET': {'DEPTH_MULTIPLIER': 1.0,\n",
            "               'FIXED_LAYERS': 5,\n",
            "               'REGU_DEPTH': False,\n",
            "               'WEIGHT_DECAY': 4e-05},\n",
            " 'PIXEL_MEANS': array([[[102.9801, 115.9465, 122.7717]]]),\n",
            " 'POOLING_MODE': 'align',\n",
            " 'POOLING_SIZE': 7,\n",
            " 'RESNET': {'FIXED_BLOCKS': 1, 'MAX_POOL': False},\n",
            " 'RNG_SEED': 3,\n",
            " 'ROOT_DIR': '/content/drive/MyDrive/Colab '\n",
            "             'Notebooks/img_caption/Faster-R-CNN-with-model-pretrained-on-Visual-Genome',\n",
            " 'TEST': {'BBOX_REG': True,\n",
            "          'HAS_RPN': True,\n",
            "          'MAX_SIZE': 1000,\n",
            "          'MODE': 'nms',\n",
            "          'NMS': 0.3,\n",
            "          'PROPOSAL_METHOD': 'gt',\n",
            "          'RPN_MIN_SIZE': 16,\n",
            "          'RPN_NMS_THRESH': 0.7,\n",
            "          'RPN_POST_NMS_TOP_N': 300,\n",
            "          'RPN_PRE_NMS_TOP_N': 6000,\n",
            "          'RPN_TOP_N': 5000,\n",
            "          'SCALES': [600],\n",
            "          'SVM': False},\n",
            " 'TRAIN': {'ASPECT_GROUPING': False,\n",
            "           'BATCH_SIZE': 128,\n",
            "           'BBOX_INSIDE_WEIGHTS': [1.0, 1.0, 1.0, 1.0],\n",
            "           'BBOX_NORMALIZE_MEANS': [0.0, 0.0, 0.0, 0.0],\n",
            "           'BBOX_NORMALIZE_STDS': [0.1, 0.1, 0.2, 0.2],\n",
            "           'BBOX_NORMALIZE_TARGETS': True,\n",
            "           'BBOX_NORMALIZE_TARGETS_PRECOMPUTED': True,\n",
            "           'BBOX_REG': True,\n",
            "           'BBOX_THRESH': 0.5,\n",
            "           'BG_THRESH_HI': 0.5,\n",
            "           'BG_THRESH_LO': 0.0,\n",
            "           'BIAS_DECAY': False,\n",
            "           'BN_TRAIN': False,\n",
            "           'DISPLAY': 20,\n",
            "           'DOUBLE_BIAS': False,\n",
            "           'FG_FRACTION': 0.25,\n",
            "           'FG_THRESH': 0.5,\n",
            "           'GAMMA': 0.1,\n",
            "           'HAS_RPN': True,\n",
            "           'IMS_PER_BATCH': 1,\n",
            "           'LEARNING_RATE': 0.001,\n",
            "           'MAX_SIZE': 1000,\n",
            "           'MOMENTUM': 0.9,\n",
            "           'PROPOSAL_METHOD': 'gt',\n",
            "           'RPN_BATCHSIZE': 256,\n",
            "           'RPN_BBOX_INSIDE_WEIGHTS': [1.0, 1.0, 1.0, 1.0],\n",
            "           'RPN_CLOBBER_POSITIVES': False,\n",
            "           'RPN_FG_FRACTION': 0.5,\n",
            "           'RPN_MIN_SIZE': 8,\n",
            "           'RPN_NEGATIVE_OVERLAP': 0.3,\n",
            "           'RPN_NMS_THRESH': 0.7,\n",
            "           'RPN_POSITIVE_OVERLAP': 0.7,\n",
            "           'RPN_POSITIVE_WEIGHT': -1.0,\n",
            "           'RPN_POST_NMS_TOP_N': 2000,\n",
            "           'RPN_PRE_NMS_TOP_N': 12000,\n",
            "           'SCALES': [600],\n",
            "           'SNAPSHOT_ITERS': 5000,\n",
            "           'SNAPSHOT_KEPT': 3,\n",
            "           'SNAPSHOT_PREFIX': 'res101_faster_rcnn',\n",
            "           'STEPSIZE': [30000],\n",
            "           'SUMMARY_INTERVAL': 180,\n",
            "           'TRIM_HEIGHT': 600,\n",
            "           'TRIM_WIDTH': 600,\n",
            "           'TRUNCATED': False,\n",
            "           'USE_ALL_GT': True,\n",
            "           'USE_FLIPPED': True,\n",
            "           'USE_GT': False,\n",
            "           'WEIGHT_DECAY': 0.0001},\n",
            " 'USE_GPU_NMS': False}\n",
            "load checkpoint /content/drive/MyDrive/Colab Notebooks/img_caption/Faster-R-CNN-with-model-pretrained-on-Visual-Genome/faster_rcnn_res101_vg.pth\n",
            "load model successfully!\n",
            "img shape: (1249, 1000, 4)\n",
            "Traceback (most recent call last):\n",
            "  File \"demo.py\", line 245, in <module>\n",
            "    blobs, im_scales = _get_image_blob(im)\n",
            "  File \"demo.py\", line 116, in _get_image_blob\n",
            "    im_orig -= cfg.PIXEL_MEANS\n",
            "ValueError: operands could not be broadcast together with shapes (1249,1000,4) (1,1,3) (1249,1000,4) \n"
          ],
          "name": "stdout"
        }
      ]
    },
    {
      "cell_type": "code",
      "metadata": {
        "colab": {
          "base_uri": "https://localhost:8080/",
          "height": 281
        },
        "id": "DDt7v0YJpJ1u",
        "outputId": "c2b6affd-9b23-43bf-fb2d-1365e87cb3c2"
      },
      "source": [
        "% cd '/content/drive/MyDrive/Colab Notebooks/img_caption/Image Captioning/meshed-memory-transformer'\n",
        "\n",
        "import random\n",
        "from data import ImageDetectionsField, TextField, RawField\n",
        "from data import COCO, DataLoader\n",
        "import evaluation\n",
        "from models.transformer import Transformer, MemoryAugmentedEncoder, MeshedDecoder, ScaledDotProductAttentionMemory\n",
        "import torch\n",
        "from tqdm import tqdm\n",
        "import argparse\n",
        "import pickle\n",
        "import numpy as np\n",
        "from google.colab.patches import cv2_imshow\n",
        "import os\n",
        "import h5py\n",
        "import torch\n",
        "from PIL import Image\n",
        "from skimage import io\n",
        "from tqdm import tqdm\n",
        "import cv2\n",
        "\n",
        "\n",
        "def predict_caption(model, image_ft, text_field):\n",
        "    model.eval()\n",
        "    image_ft = image_ft.to(device)\n",
        "    with torch.no_grad():\n",
        "        out, _ = model.beam_search(image_ft, 20, text_field.vocab.stoi['<eos>'], 5, out_size=1)\n",
        "    caps_gen = text_field.decode(out, join_words=False)\n",
        "    return caps_gen\n",
        "\n",
        "\n",
        "device = torch.device('cuda')\n",
        "\n",
        "# Pipeline for image regions\n",
        "# image_field = ImageDetectionsField(detections_path=args.features_path, max_detections=50, load_in_tmp=False)\n",
        "\n",
        "# Pipeline for text\n",
        "text_field = TextField(init_token='<bos>', eos_token='<eos>', lower=True, tokenize='spacy',\n",
        "                        remove_punctuation=True, nopoints=False)\n",
        "# text_field.vocab = pickle.load(open('vocab_m2_transformer.pkl', 'rb'))\n",
        "text_field.vocab = pickle.load(open('vocab.pkl', 'rb'))\n",
        "\n",
        "# Model and dataloaders\n",
        "encoder = MemoryAugmentedEncoder(3, 0, attention_module=ScaledDotProductAttentionMemory,\n",
        "                                    attention_module_kwargs={'m': 40})\n",
        "decoder = MeshedDecoder(len(text_field.vocab), 54, 3, text_field.vocab.stoi['<pad>'])\n",
        "model = Transformer(text_field.vocab.stoi['<bos>'], encoder, decoder).to(device)\n",
        "\n",
        "data = torch.load('meshed_memory_transformer.pth')\n",
        "# data = torch.load('saved_models/m2_transformer_temp.pth')\n",
        "model.load_state_dict(data['state_dict'])\n",
        "\n",
        "# feature extraction\n",
        "with open('/content/drive/MyDrive/Colab Notebooks/img_caption/ft.pkl', 'rb') as f:\n",
        "    ft_output = pickle.load(f)\n",
        "    ft_output = ft_output.unsqueeze(0)\n",
        "print(ft_output.shape)\n",
        "# img captioning\n",
        "cap = predict_caption(model, ft_output, text_field)\n",
        "image = cv2.imread(img_path)\n",
        "cv2_imshow(image)\n",
        "print(cap)"
      ],
      "execution_count": null,
      "outputs": [
        {
          "output_type": "stream",
          "text": [
            "/content/drive/.shortcut-targets-by-id/1ejeW5FQej_GXFefrrFxP1-Pn1IkJc441/Image Captioning/meshed-memory-transformer\n",
            "torch.Size([1, 15, 2048])\n"
          ],
          "name": "stdout"
        },
        {
          "output_type": "stream",
          "text": [
            "/content/drive/.shortcut-targets-by-id/1ejeW5FQej_GXFefrrFxP1-Pn1IkJc441/Image Captioning/meshed-memory-transformer/models/transformer/attention.py:62: UserWarning: masked_fill_ received a mask with dtype torch.uint8, this behavior is now deprecated,please use a mask with dtype torch.bool instead. (Triggered internally at  /pytorch/aten/src/ATen/native/cuda/LegacyDefinitions.cpp:28.)\n",
            "  att = att.masked_fill(attention_mask, -np.inf)\n"
          ],
          "name": "stderr"
        },
        {
          "output_type": "display_data",
          "data": {
            "image/png": "[encoded data removed]",
            "text/plain": [
              "<PIL.Image.Image image mode=RGB size=318x159 at 0x7FF1F5E5FA90>"
            ]
          },
          "metadata": {
            "tags": []
          }
        },
        {
          "output_type": "stream",
          "text": [
            "[['a', 'group', 'of', 'black', 'and', 'white', 'animals', 'in', 'the', 'grass']]\n"
          ],
          "name": "stdout"
        }
      ]
    }
  ]
}